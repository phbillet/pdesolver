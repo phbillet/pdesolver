{
 "cells": [
  {
   "cell_type": "code",
   "execution_count": 1,
   "id": "bd469f38-0ff8-4eb2-867c-bc305a6e3e5d",
   "metadata": {},
   "outputs": [
    {
     "name": "stdout",
     "output_type": "stream",
     "text": [
      "Does the exact solution satisfy the PDE? : True\n",
      "Does the exact solution satisfy the initial condition? : True\n"
     ]
    }
   ],
   "source": [
    "from sympy import symbols, Function, diff, sin, exp, simplify\n",
    "\n",
    "# Define symbols and function\n",
    "t, x = symbols('t x')\n",
    "u_exact = sin(x) * exp(-t)  # Exact solution\n",
    "\n",
    "# Define the PDE: ∂u/∂t = ∂²u/∂x²\n",
    "lhs_pde = diff(u_exact, t)       # Left-hand side of the PDE (∂u/∂t)\n",
    "rhs_pde = diff(u_exact, x, x)    # Right-hand side of the PDE (∂²u/∂x²)\n",
    "\n",
    "# Check if the PDE is satisfied\n",
    "pde_satisfied = simplify(lhs_pde - rhs_pde) == 0\n",
    "\n",
    "# Check the initial condition: u(x, 0) = sin(x)\n",
    "initial_condition = simplify(u_exact.subs(t, 0) - sin(x)) == 0\n",
    "\n",
    "# Print results\n",
    "print(\"Does the exact solution satisfy the PDE? :\", pde_satisfied)\n",
    "print(\"Does the exact solution satisfy the initial condition? :\", initial_condition)"
   ]
  },
  {
   "cell_type": "code",
   "execution_count": 2,
   "id": "3aab8ee0-47b1-4789-8d8a-aacc27f35a8d",
   "metadata": {},
   "outputs": [
    {
     "name": "stdout",
     "output_type": "stream",
     "text": [
      "Does the exact solution satisfy the PDE? : True\n",
      "Does the exact solution satisfy the first initial condition (u(x,0) = sin(x))? : True\n",
      "Does the exact solution satisfy the second initial condition (∂u/∂t(x,0) = 0)? : True\n"
     ]
    }
   ],
   "source": [
    "from sympy import symbols, Function, diff, sin, cos, simplify\n",
    "\n",
    "# Define symbols and function\n",
    "t, x = symbols('t x')\n",
    "u_exact = sin(x) * cos(t)  # Exact solution\n",
    "\n",
    "# Define the PDE: ∂²u/∂t² = ∂²u/∂x²\n",
    "lhs_pde = diff(u_exact, t, t)       # Left-hand side of the PDE (∂²u/∂t²)\n",
    "rhs_pde = diff(u_exact, x, x)       # Right-hand side of the PDE (∂²u/∂x²)\n",
    "\n",
    "# Check if the PDE is satisfied\n",
    "pde_satisfied = simplify(lhs_pde - rhs_pde) == 0\n",
    "\n",
    "# Check the initial conditions\n",
    "initial_condition_1 = simplify(u_exact.subs(t, 0) - sin(x)) == 0  # u(x,0) = sin(x)\n",
    "initial_condition_2 = simplify(diff(u_exact, t).subs(t, 0)) == 0  # ∂u/∂t(x,0) = 0\n",
    "\n",
    "# Print results\n",
    "print(\"Does the exact solution satisfy the PDE? :\", pde_satisfied)\n",
    "print(\"Does the exact solution satisfy the first initial condition (u(x,0) = sin(x))? :\", initial_condition_1)\n",
    "print(\"Does the exact solution satisfy the second initial condition (∂u/∂t(x,0) = 0)? :\", initial_condition_2)"
   ]
  },
  {
   "cell_type": "code",
   "execution_count": 3,
   "id": "88d4313b-138b-4104-b1c6-518b1845dea6",
   "metadata": {},
   "outputs": [
    {
     "name": "stdout",
     "output_type": "stream",
     "text": [
      "Does the exact solution satisfy the KdV equation? : False\n",
      "Does the exact solution satisfy the initial condition? : True\n"
     ]
    }
   ],
   "source": [
    "from sympy import symbols, Function, diff, simplify, cosh, sqrt\n",
    "\n",
    "# Define symbols and the exact solution\n",
    "t, x = symbols('t x')\n",
    "c, x0 = symbols('c x0')  # Soliton parameters\n",
    "u_exact = c / 2 * (1 / cosh(sqrt(c) / 2 * (x - c * t - x0)))**2\n",
    "\n",
    "\n",
    "# Define the KdV equation: ∂u/∂t + 6u∂u/∂x - ∂³u/∂x³ = 0\n",
    "u = Function('u')(t, x)\n",
    "kdv_eq = diff(u, t) - 6 * u * diff(u, x) + diff(u, x, x, x)\n",
    "\n",
    "# Substitute the exact solution into the KdV equation\n",
    "u_t = diff(u_exact, t)\n",
    "u_x = diff(u_exact, x)\n",
    "u_xxx = diff(u_exact, x, x, x)\n",
    "\n",
    "# Left-hand side of the KdV equation\n",
    "lhs_kdv = u_t + 6 * u_exact * u_x - u_xxx\n",
    "\n",
    "# Simplify the left-hand side to check if it equals zero\n",
    "kdv_satisfied = simplify(lhs_kdv) == 0\n",
    "\n",
    "# Check the initial condition: u(x, 0) = c/2 * sech^2(sqrt(c)/2 * (x - x0))\n",
    "initial_condition = simplify(u_exact.subs(t, 0) - c / 2 * (1 / cosh(sqrt(c) / 2 * (x - x0)))**2) == 0\n",
    "\n",
    "# Print results\n",
    "print(\"Does the exact solution satisfy the KdV equation? :\", kdv_satisfied)\n",
    "print(\"Does the exact solution satisfy the initial condition? :\", initial_condition)"
   ]
  },
  {
   "cell_type": "code",
   "execution_count": 4,
   "id": "4f0a0171-be74-4de6-937c-67623ef5a07d",
   "metadata": {},
   "outputs": [
    {
     "name": "stdout",
     "output_type": "stream",
     "text": [
      "Does the exact solution satisfy the PDE? : True\n",
      "Does the exact solution satisfy the periodicity condition? : True\n"
     ]
    }
   ],
   "source": [
    "from sympy import symbols, Function, diff, exp, simplify, Mod\n",
    "\n",
    "# Define symbols and the exact solution\n",
    "t, x, L = symbols('t x L')\n",
    "u_exact = exp(-((x - t + L/2) % L - L/2)**2)\n",
    "\n",
    "# Define the PDE: ∂u/∂t = -∂u/∂x\n",
    "lhs_pde = diff(u_exact, t)       # Left-hand side of the PDE (∂u/∂t)\n",
    "rhs_pde = -diff(u_exact, x)      # Right-hand side of the PDE (-∂u/∂x)\n",
    "\n",
    "# Check if the PDE is satisfied\n",
    "pde_satisfied = simplify(lhs_pde - rhs_pde) == 0\n",
    "\n",
    "# Check periodicity: u(x, t) == u(x + L, t)\n",
    "periodicity_condition = simplify(u_exact.subs(x, x + L) - u_exact) == 0\n",
    "\n",
    "# Print results\n",
    "print(\"Does the exact solution satisfy the PDE? :\", pde_satisfied)\n",
    "print(\"Does the exact solution satisfy the periodicity condition? :\", periodicity_condition)"
   ]
  },
  {
   "cell_type": "code",
   "execution_count": 5,
   "id": "07ff8541-8a8a-4cd9-8875-dd0708e7e0b8",
   "metadata": {},
   "outputs": [
    {
     "name": "stdout",
     "output_type": "stream",
     "text": [
      "Does the exact solution satisfy the Klein-Gordon equation? : True\n",
      "Does the exact solution satisfy the first initial condition (u(x,0) = cos(x))? : True\n",
      "Does the exact solution satisfy the second initial condition (∂u/∂t(x,0) = 0)? : True\n"
     ]
    }
   ],
   "source": [
    "from sympy import symbols, Function, diff, cos, sqrt, simplify\n",
    "\n",
    "# Define symbols and function\n",
    "t, x = symbols('t x')\n",
    "u_exact = cos(sqrt(2) * t) * cos(x)  # Exact solution\n",
    "\n",
    "# Define the Klein-Gordon equation: ∂²u/∂t² = ∂²u/∂x² - u\n",
    "lhs_kg = diff(u_exact, t, t)       # Left-hand side (∂²u/∂t²)\n",
    "rhs_kg = diff(u_exact, x, x) - u_exact  # Right-hand side (∂²u/∂x² - u)\n",
    "\n",
    "# Check if the PDE is satisfied\n",
    "pde_satisfied = simplify(lhs_kg - rhs_kg) == 0\n",
    "\n",
    "# Check the initial condition: u(x, 0) = cos(x)\n",
    "initial_condition_1 = simplify(u_exact.subs(t, 0) - cos(x)) == 0\n",
    "\n",
    "# Check the initial velocity condition: ∂u/∂t(x, 0) = 0\n",
    "initial_velocity = simplify(diff(u_exact, t).subs(t, 0)) == 0\n",
    "\n",
    "# Print results\n",
    "print(\"Does the exact solution satisfy the Klein-Gordon equation? :\", pde_satisfied)\n",
    "print(\"Does the exact solution satisfy the first initial condition (u(x,0) = cos(x))? :\", initial_condition_1)\n",
    "print(\"Does the exact solution satisfy the second initial condition (∂u/∂t(x,0) = 0)? :\", initial_velocity)"
   ]
  },
  {
   "cell_type": "code",
   "execution_count": 6,
   "id": "c9ea1dec-0d83-41f6-b24d-755c0f2a1fe2",
   "metadata": {},
   "outputs": [
    {
     "name": "stdout",
     "output_type": "stream",
     "text": [
      "La solution exacte satisfait-elle l'EDP ? : True\n",
      "La solution exacte satisfait-elle la condition initiale ? : True\n"
     ]
    }
   ],
   "source": [
    "from sympy import symbols, Function, diff, exp, I, simplify, sqrt\n",
    "\n",
    "# Définir les symboles et la solution exacte\n",
    "t, x = symbols('t x')\n",
    "u_exact = 1 / sqrt(1 - 4*I*t) * exp(I*(x + t)) * exp(-((x + 2*t)**2) / (1 - 4*I*t))\n",
    "\n",
    "# Définir l'équation de Schrödinger 1D\n",
    "lhs_schrodinger = I * diff(u_exact, t)  # Membre gauche : i ∂u/∂t\n",
    "rhs_schrodinger = diff(u_exact, x, x)   # Membre droit : ∂²u/∂x²\n",
    "\n",
    "# Vérifier si l'EDP est satisfaite\n",
    "pde_satisfied = simplify(lhs_schrodinger - rhs_schrodinger) == 0\n",
    "\n",
    "# Vérifier la condition initiale : u(x, 0) = exp(-x^2) * exp(i*x)\n",
    "initial_condition = simplify(u_exact.subs(t, 0) - exp(-x**2) * exp(I*x)) == 0\n",
    "\n",
    "# Afficher les résultats\n",
    "print(\"La solution exacte satisfait-elle l'EDP ? :\", pde_satisfied)\n",
    "print(\"La solution exacte satisfait-elle la condition initiale ? :\", initial_condition)"
   ]
  },
  {
   "cell_type": "code",
   "execution_count": 7,
   "id": "cf41464b-b9bb-4724-bc25-234693254bea",
   "metadata": {},
   "outputs": [
    {
     "name": "stdout",
     "output_type": "stream",
     "text": [
      "Does the exact solution satisfy the PDE? : True\n",
      "Does the exact solution satisfy the initial condition? : True\n"
     ]
    }
   ],
   "source": [
    "from sympy import symbols, Function, diff, sin, exp, simplify\n",
    "\n",
    "# Define symbols and function\n",
    "t, x = symbols('t x')\n",
    "u_exact = sin(x) * exp(-t)  # Exact solution\n",
    "\n",
    "# Define the PDE: ∂u/∂t = -∂⁴u/∂x⁴\n",
    "lhs_pde = diff(u_exact, t)       # Left-hand side of the PDE (∂u/∂t)\n",
    "rhs_pde = -diff(u_exact, x, x, x, x)  # Right-hand side of the PDE (-∂⁴u/∂x⁴)\n",
    "\n",
    "# Check if the PDE is satisfied\n",
    "pde_satisfied = simplify(lhs_pde - rhs_pde) == 0\n",
    "\n",
    "# Check the initial condition: u(x, 0) = sin(x)\n",
    "initial_condition = simplify(u_exact.subs(t, 0) - sin(x)) == 0\n",
    "\n",
    "# Print results\n",
    "print(\"Does the exact solution satisfy the PDE? :\", pde_satisfied)\n",
    "print(\"Does the exact solution satisfy the initial condition? :\", initial_condition)"
   ]
  },
  {
   "cell_type": "code",
   "execution_count": 8,
   "id": "e64c717d-8d45-43ee-9da0-405801fd03f2",
   "metadata": {},
   "outputs": [
    {
     "name": "stdout",
     "output_type": "stream",
     "text": [
      "Does the exact solution satisfy the PDE? : True\n",
      "Does the exact solution satisfy the initial condition? : True\n"
     ]
    }
   ],
   "source": [
    "from sympy import symbols, Function, diff, sin, exp, simplify\n",
    "\n",
    "# Define symbols and the unknown function\n",
    "t, x, y = symbols('t x y')\n",
    "u_exact = sin(x) * sin(y) * exp(-2 * t)  # Exact solution\n",
    "\n",
    "# Define the PDE: ∂u/∂t = ∂²u/∂x² + ∂²u/∂y²\n",
    "lhs_pde = diff(u_exact, t)               # Left-hand side of the PDE (∂u/∂t)\n",
    "rhs_pde = diff(u_exact, x, x) + diff(u_exact, y, y)  # Right-hand side of the PDE (∂²u/∂x² + ∂²u/∂y²)\n",
    "\n",
    "# Check if the PDE is satisfied\n",
    "pde_satisfied = simplify(lhs_pde - rhs_pde) == 0\n",
    "\n",
    "# Check the initial condition: u(x, y, 0) = sin(x) * sin(y)\n",
    "initial_condition = simplify(u_exact.subs(t, 0) - sin(x) * sin(y)) == 0\n",
    "\n",
    "# Print results\n",
    "print(\"Does the exact solution satisfy the PDE? :\", pde_satisfied)\n",
    "print(\"Does the exact solution satisfy the initial condition? :\", initial_condition)"
   ]
  },
  {
   "cell_type": "code",
   "execution_count": 9,
   "id": "e2480ac7-022e-4aed-8251-1b59e705633e",
   "metadata": {},
   "outputs": [
    {
     "name": "stdout",
     "output_type": "stream",
     "text": [
      "Does the exact solution satisfy the PDE? : False\n",
      "Does the exact solution satisfy the initial condition? : True\n"
     ]
    }
   ],
   "source": [
    "from sympy import symbols, Function, diff, exp, I, simplify\n",
    "\n",
    "# Define symbols and the unknown function\n",
    "t, x, y = symbols('t x y')\n",
    "u_exact = Function('u')(t, x, y)\n",
    "\n",
    "# Exact solution of the 2D Schrödinger equation\n",
    "u_exact = 1 / (1 + 4*I*t)**(1) * exp(I * (x + y - 2*t)) * exp(-((x + 2*t)**2 + (y + 2*t)**2) / (1 + 4*I*t))\n",
    "\n",
    "# Define the PDE: i ∂u/∂t = ∂²u/∂x² + ∂²u/∂y²\n",
    "lhs_pde = I * diff(u_exact, t)  # Left-hand side of the PDE (i ∂u/∂t)\n",
    "rhs_pde = diff(u_exact, x, x) + diff(u_exact, y, y)  # Right-hand side of the PDE (∂²u/∂x² + ∂²u/∂y²)\n",
    "\n",
    "# Check if the PDE is satisfied\n",
    "pde_satisfied = simplify(lhs_pde - rhs_pde) == 0\n",
    "\n",
    "# Check the initial condition: u(x, y, 0) = exp(-(x^2 + y^2)) * exp(i(x + y))\n",
    "initial_condition = simplify(u_exact.subs(t, 0) - exp(-(x**2 + y**2)) * exp(I * (x + y))) == 0\n",
    "\n",
    "# Print results\n",
    "print(\"Does the exact solution satisfy the PDE? :\", pde_satisfied)\n",
    "print(\"Does the exact solution satisfy the initial condition? :\", initial_condition)"
   ]
  },
  {
   "cell_type": "code",
   "execution_count": 10,
   "id": "0d91c95e-6fc8-458b-8627-17edd29fde57",
   "metadata": {},
   "outputs": [
    {
     "data": {
      "text/latex": [
       "$\\displaystyle \\frac{\\left(- 128 i t^{2} - 32 i t x - 32 i t y - 64 t - 8 i x^{2} - 8 i y^{2} + 12 i\\right) e^{- \\frac{8 t^{2}}{4 i t + 1} - \\frac{4 t x}{4 i t + 1} - \\frac{4 t y}{4 i t + 1} - 2 i t - \\frac{x^{2}}{4 i t + 1} + i x - \\frac{y^{2}}{4 i t + 1} + i y}}{64 t^{3} - 48 i t^{2} - 12 t + i}$"
      ],
      "text/plain": [
       "(-128*I*t**2 - 32*I*t*x - 32*I*t*y - 64*t - 8*I*x**2 - 8*I*y**2 + 12*I)*exp(-8*t**2/(4*I*t + 1) - 4*t*x/(4*I*t + 1) - 4*t*y/(4*I*t + 1) - 2*I*t - x**2/(4*I*t + 1) + I*x - y**2/(4*I*t + 1) + I*y)/(64*t**3 - 48*I*t**2 - 12*t + I)"
      ]
     },
     "execution_count": 10,
     "metadata": {},
     "output_type": "execute_result"
    }
   ],
   "source": [
    "simplify(lhs_pde - rhs_pde)"
   ]
  },
  {
   "cell_type": "code",
   "execution_count": 11,
   "id": "a367a9c0-87d7-4e55-807a-8c1cdb333204",
   "metadata": {},
   "outputs": [
    {
     "name": "stdout",
     "output_type": "stream",
     "text": [
      "Does the exact solution satisfy the PDE? : True\n",
      "Does the exact solution satisfy the first initial condition? : True\n",
      "Does the exact solution satisfy the second initial condition? : True\n"
     ]
    }
   ],
   "source": [
    "from sympy import symbols, Function, diff, sin, cos, sqrt, simplify\n",
    "\n",
    "# Define symbols and the unknown function\n",
    "t, x, y = symbols('t x y')\n",
    "u_exact = sin(x) * sin(y) * cos(sqrt(2) * t)  # Exact solution\n",
    "\n",
    "# Define the PDE: ∂²u/∂t² = ∂²u/∂x² + ∂²u/∂y²\n",
    "lhs_pde = diff(u_exact, t, t)  # Left-hand side of the PDE (∂²u/∂t²)\n",
    "rhs_pde = diff(u_exact, x, x) + diff(u_exact, y, y)  # Right-hand side of the PDE (∂²u/∂x² + ∂²u/∂y²)\n",
    "\n",
    "# Check if the PDE is satisfied\n",
    "pde_satisfied = simplify(lhs_pde - rhs_pde) == 0\n",
    "\n",
    "# Check the initial condition: u(x, y, 0) = sin(x) * sin(y)\n",
    "initial_condition_1 = simplify(u_exact.subs(t, 0) - sin(x) * sin(y)) == 0\n",
    "\n",
    "# Check the initial velocity condition: ∂u/∂t(x, y, 0) = 0\n",
    "initial_velocity_condition = simplify(diff(u_exact, t).subs(t, 0)) == 0\n",
    "\n",
    "# Print results\n",
    "print(\"Does the exact solution satisfy the PDE? :\", pde_satisfied)\n",
    "print(\"Does the exact solution satisfy the first initial condition? :\", initial_condition_1)\n",
    "print(\"Does the exact solution satisfy the second initial condition? :\", initial_velocity_condition)"
   ]
  },
  {
   "cell_type": "code",
   "execution_count": 12,
   "id": "f90404b8-265d-46de-bf51-e929dbb42b23",
   "metadata": {},
   "outputs": [
    {
     "name": "stdout",
     "output_type": "stream",
     "text": [
      "Does the exact solution satisfy the PDE? : True\n",
      "Does the exact solution satisfy the initial condition? : True\n"
     ]
    }
   ],
   "source": [
    "from sympy import symbols, Function, diff, sin, exp, simplify\n",
    "\n",
    "# Define symbols and function\n",
    "t, x, y = symbols('t x y')\n",
    "u_exact = sin(x) * sin(y) * exp(-2 * t)  # Exact solution\n",
    "\n",
    "# Define the PDE: ∂u/∂t = ∂²u/∂x² + ∂²u/∂y²\n",
    "lhs_pde = diff(u_exact, t)               # Left-hand side of the PDE (∂u/∂t)\n",
    "rhs_pde = diff(u_exact, x, x) + diff(u_exact, y, y)  # Right-hand side of the PDE (∂²u/∂x² + ∂²u/∂y²)\n",
    "\n",
    "# Check if the PDE is satisfied\n",
    "pde_satisfied = simplify(lhs_pde - rhs_pde) == 0\n",
    "\n",
    "# Check the initial condition: u(x, y, 0) = sin(x) * sin(y)\n",
    "initial_condition = simplify(u_exact.subs(t, 0) - sin(x) * sin(y)) == 0\n",
    "\n",
    "# Print results\n",
    "print(\"Does the exact solution satisfy the PDE? :\", pde_satisfied)\n",
    "print(\"Does the exact solution satisfy the initial condition? :\", initial_condition)"
   ]
  },
  {
   "cell_type": "code",
   "execution_count": 13,
   "id": "25893897-7046-432d-b7f3-bfc131e40f10",
   "metadata": {},
   "outputs": [
    {
     "name": "stdout",
     "output_type": "stream",
     "text": [
      "Does the exact solution satisfy the PDE? : True\n",
      "Does the exact solution satisfy the initial condition? : True\n"
     ]
    }
   ],
   "source": [
    "from sympy import symbols, Function, diff, sin, exp, simplify\n",
    "\n",
    "# Define symbols and function\n",
    "t, x, y = symbols('t x y')\n",
    "u_exact = sin(x) * sin(y) * exp(-4 * t)  # Exact solution\n",
    "\n",
    "# Define the PDE: ∂u/∂t = -(∂⁴u/∂x⁴ + 2∂⁴u/∂x²∂y² + ∂⁴u/∂y⁴)\n",
    "lhs_pde = diff(u_exact, t)  # Left-hand side of the PDE (∂u/∂t)\n",
    "rhs_pde = -(diff(u_exact, x, 4) + 2 * diff(u_exact, x, 2, y, 2) + diff(u_exact, y, 4))  # Right-hand side of the PDE\n",
    "\n",
    "# Check if the PDE is satisfied\n",
    "pde_satisfied = simplify(lhs_pde - rhs_pde) == 0\n",
    "\n",
    "# Check the initial condition: u(x, y, 0) = sin(x) * sin(y)\n",
    "initial_condition = simplify(u_exact.subs(t, 0) - sin(x) * sin(y)) == 0\n",
    "\n",
    "# Print results\n",
    "print(\"Does the exact solution satisfy the PDE? :\", pde_satisfied)\n",
    "print(\"Does the exact solution satisfy the initial condition? :\", initial_condition)"
   ]
  },
  {
   "cell_type": "code",
   "execution_count": 14,
   "id": "3125fc65-2f06-463e-959d-4f6652783970",
   "metadata": {},
   "outputs": [
    {
     "name": "stdout",
     "output_type": "stream",
     "text": [
      "Does the exact solution satisfy the Klein-Gordon equation? : False\n",
      "Does the exact solution satisfy the initial condition u(x, y, 0)? : True\n",
      "Does the exact solution satisfy the initial velocity condition ∂u/∂t(x, y, 0)? : True\n"
     ]
    }
   ],
   "source": [
    "from sympy import symbols, Function, diff, sin, cos, sqrt, simplify\n",
    "\n",
    "# Define symbols and the exact solution\n",
    "t, x, y = symbols('t x y')\n",
    "c = 1.0  # Wave speed\n",
    "m = 1.0  # Field mass\n",
    "kx, ky = 1, 1  # Wave numbers\n",
    "omega = sqrt(c**2 * (kx**2 + ky**2) + m**2)  # Angular frequency\n",
    "u_exact = sin(x) * sin(y) * cos(omega * t)\n",
    "\n",
    "# Define the Klein-Gordon equation\n",
    "lhs_kg = diff(u_exact, t, t)  # Left-hand side: ∂²u/∂t²\n",
    "rhs_kg = c**2 * (diff(u_exact, x, x) + diff(u_exact, y, y)) - m**2 * u_exact  # Right-hand side\n",
    "kg_satisfied = simplify(lhs_kg - rhs_kg) == 0\n",
    "\n",
    "# Check the initial condition: u(x, y, 0) = sin(x) * sin(y)\n",
    "initial_condition_u = simplify(u_exact.subs(t, 0) - sin(x) * sin(y)) == 0\n",
    "\n",
    "# Check the initial velocity condition: ∂u/∂t(x, y, 0) = 0\n",
    "initial_velocity_u = simplify(diff(u_exact, t).subs(t, 0)) == 0\n",
    "\n",
    "# Print results\n",
    "print(\"Does the exact solution satisfy the Klein-Gordon equation? :\", kg_satisfied)\n",
    "print(\"Does the exact solution satisfy the initial condition u(x, y, 0)? :\", initial_condition_u)\n",
    "print(\"Does the exact solution satisfy the initial velocity condition ∂u/∂t(x, y, 0)? :\", initial_velocity_u)"
   ]
  },
  {
   "cell_type": "code",
   "execution_count": 15,
   "id": "edd050c1-8834-4302-9c25-11502e07dd60",
   "metadata": {},
   "outputs": [
    {
     "name": "stdout",
     "output_type": "stream",
     "text": [
      "Does the exact solution satisfy the PDE? : True\n",
      "Is the solution periodic in x? : False\n",
      "Is the solution periodic in y? : False\n"
     ]
    }
   ],
   "source": [
    "from sympy import symbols, Function, diff, exp, simplify, Eq\n",
    "\n",
    "# Define symbols and function\n",
    "t, x, y = symbols('t x y')\n",
    "u_exact = exp(-((x - t)**2 + (y - t)**2))  # Exact solution\n",
    "\n",
    "# Define the PDE: ∂u/∂t = -∂u/∂x - ∂u/∂y\n",
    "lhs_pde = diff(u_exact, t)       # Left-hand side of the PDE (∂u/∂t)\n",
    "rhs_pde = -diff(u_exact, x) - diff(u_exact, y)  # Right-hand side of the PDE (-∂u/∂x - ∂u/∂y)\n",
    "\n",
    "# Check if the PDE is satisfied\n",
    "pde_satisfied = simplify(lhs_pde - rhs_pde) == 0\n",
    "\n",
    "# Check periodicity in x and y directions\n",
    "L = symbols('L')  # Domain size\n",
    "periodic_x = simplify(u_exact.subs(x, x + L) - u_exact) == 0\n",
    "periodic_y = simplify(u_exact.subs(y, y + L) - u_exact) == 0\n",
    "\n",
    "# Print results\n",
    "print(\"Does the exact solution satisfy the PDE? :\", pde_satisfied)\n",
    "print(\"Is the solution periodic in x? :\", periodic_x)\n",
    "print(\"Is the solution periodic in y? :\", periodic_y)"
   ]
  },
  {
   "cell_type": "code",
   "execution_count": 16,
   "id": "7356b450-e13e-4325-aa76-83a1200e97c4",
   "metadata": {},
   "outputs": [
    {
     "name": "stdout",
     "output_type": "stream",
     "text": [
      "Does the exact solution satisfy the Klein-Gordon equation? : False\n",
      "Does the exact solution satisfy the initial condition u(x, y, 0) = sin(x) * sin(y)? : True\n",
      "Does the exact solution satisfy the initial condition ∂u/∂t(x, y, 0) = 0? : True\n"
     ]
    }
   ],
   "source": [
    "from sympy import symbols, Function, diff, sin, cos, sqrt, simplify\n",
    "\n",
    "# Define symbols and the exact solution\n",
    "t, x, y = symbols('t x y')\n",
    "c = 1.0  # Wave speed\n",
    "m = 1.0  # Field mass\n",
    "kx = 1\n",
    "ky = 1\n",
    "omega = sqrt(c**2 * (kx**2 + ky**2) + m**2)  # Angular frequency\n",
    "u_exact = sin(x) * sin(y) * cos(omega * t)\n",
    "\n",
    "# Define the Klein-Gordon equation\n",
    "u = Function('u')(t, x, y)\n",
    "klein_gordon_eq = Eq(diff(u, t, t), c**2 * (diff(u, x, x) + diff(u, y, y)) - m**2 * u)\n",
    "\n",
    "# Substitute the exact solution into the Klein-Gordon equation\n",
    "lhs = klein_gordon_eq.lhs.subs(u, u_exact)\n",
    "rhs = klein_gordon_eq.rhs.subs(u, u_exact)\n",
    "equation_satisfied = simplify(lhs - rhs) == 0\n",
    "\n",
    "# Check the initial condition u(x, y, 0) = sin(x) * sin(y)\n",
    "initial_condition_u = simplify(u_exact.subs(t, 0) - sin(x) * sin(y)) == 0\n",
    "\n",
    "# Check the initial condition ∂u/∂t(x, y, 0) = 0\n",
    "initial_derivative = diff(u_exact, t).subs(t, 0)\n",
    "initial_condition_dudt = simplify(initial_derivative) == 0\n",
    "\n",
    "# Print results\n",
    "print(\"Does the exact solution satisfy the Klein-Gordon equation? :\", equation_satisfied)\n",
    "print(\"Does the exact solution satisfy the initial condition u(x, y, 0) = sin(x) * sin(y)? :\", initial_condition_u)\n",
    "print(\"Does the exact solution satisfy the initial condition ∂u/∂t(x, y, 0) = 0? :\", initial_condition_dudt)"
   ]
  },
  {
   "cell_type": "code",
   "execution_count": 17,
   "id": "ff76bf6d-d201-4ec8-b0d2-56f55579d4ec",
   "metadata": {
    "scrolled": true
   },
   "outputs": [
    {
     "data": {
      "text/latex": [
       "$\\displaystyle 4.44089209850063 \\cdot 10^{-16} \\sin{\\left(x \\right)} \\sin{\\left(y \\right)} \\cos{\\left(1.73205080756888 t \\right)}$"
      ],
      "text/plain": [
       "4.44089209850063e-16*sin(x)*sin(y)*cos(1.73205080756888*t)"
      ]
     },
     "execution_count": 17,
     "metadata": {},
     "output_type": "execute_result"
    }
   ],
   "source": [
    "simplify(lhs - rhs)"
   ]
  },
  {
   "cell_type": "code",
   "execution_count": null,
   "id": "f58ae3fe-dc61-4843-82a5-22dfa995203c",
   "metadata": {},
   "outputs": [],
   "source": []
  },
  {
   "cell_type": "code",
   "execution_count": null,
   "id": "aab6f549-6784-4822-8385-17dc1c7532cc",
   "metadata": {},
   "outputs": [],
   "source": []
  }
 ],
 "metadata": {
  "kernelspec": {
   "display_name": "Python 3 (ipykernel)",
   "language": "python",
   "name": "python3"
  },
  "language_info": {
   "codemirror_mode": {
    "name": "ipython",
    "version": 3
   },
   "file_extension": ".py",
   "mimetype": "text/x-python",
   "name": "python",
   "nbconvert_exporter": "python",
   "pygments_lexer": "ipython3",
   "version": "3.12.7"
  }
 },
 "nbformat": 4,
 "nbformat_minor": 5
}
